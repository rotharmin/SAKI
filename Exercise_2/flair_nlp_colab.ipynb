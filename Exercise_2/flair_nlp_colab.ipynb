{
 "cells": [
  {
   "cell_type": "markdown",
   "metadata": {
    "colab_type": "text",
    "id": "sF_9MAOKPyAY"
   },
   "source": [
    "# Resume NER\n",
    "## Extract Information from Resumes using Named Entity Recognition\n",
    "---\n",
    "### Training the model\n",
    "In this part a model on our data is trained with Flair NLP  and the results are evaluated.\n",
    "\n",
    "Run this code on google colab."
   ]
  },
  {
   "cell_type": "code",
   "execution_count": 0,
   "metadata": {
    "colab": {},
    "colab_type": "code",
    "id": "2zuCubbF-AQc"
   },
   "outputs": [],
   "source": [
    "from google.colab import drive\n",
    "drive.mount('/content/gdrive')"
   ]
  },
  {
   "cell_type": "code",
   "execution_count": 0,
   "metadata": {
    "colab": {},
    "colab_type": "code",
    "id": "MXiOU9ihIHvX"
   },
   "outputs": [],
   "source": [
    "import os\n",
    "os.chdir(\"/content/gdrive/My Drive/SAKI/data\") "
   ]
  },
  {
   "cell_type": "code",
   "execution_count": 0,
   "metadata": {
    "colab": {},
    "colab_type": "code",
    "id": "l8542ZPSnM_d"
   },
   "outputs": [],
   "source": [
    "! pip install flair"
   ]
  },
  {
   "cell_type": "code",
   "execution_count": 0,
   "metadata": {
    "colab": {
     "base_uri": "https://localhost:8080/",
     "height": 139
    },
    "colab_type": "code",
    "executionInfo": {
     "elapsed": 10152,
     "status": "ok",
     "timestamp": 1560878604033,
     "user": {
      "displayName": "Armin Roth",
      "photoUrl": "",
      "userId": "08591799635376506733"
     },
     "user_tz": -120
    },
    "id": "Ghp5-JZTRYOb",
    "outputId": "deec0b8f-4ab6-4972-fc3d-fe6c5ecf7d1a"
   },
   "outputs": [
    {
     "name": "stdout",
     "output_type": "stream",
     "text": [
      "2019-06-18 17:23:16,078 Reading data from /content/gdrive/My Drive/SAKI/flair\n",
      "2019-06-18 17:23:16,079 Train: /content/gdrive/My Drive/SAKI/flair/train_res_bilou_nd.txt\n",
      "2019-06-18 17:23:16,085 Dev: /content/gdrive/My Drive/SAKI/flair/valid_res_bilou_nd.txt\n",
      "2019-06-18 17:23:16,086 Test: /content/gdrive/My Drive/SAKI/flair/test_res_bilou_nd.txt\n",
      "Corpus: 10199 train + 3120 dev + 2748 test sentences\n",
      "[b'<unk>', b'O', b'B-Designation', b'I-Designation', b'L-Designation', b'\"B-Companies', b'\"L-Companies', b'U-Degree', b'U-Designation', b'-', b'B-Degree', b'I-Degree', b'L-Degree', b'\"I-Companies', b'\"U-Companies', b'<START>', b'<STOP>']\n"
     ]
    }
   ],
   "source": [
    "from flair.data import Corpus\n",
    "from flair.datasets import ColumnCorpus\n",
    "\n",
    "## describes file structure\n",
    "columns = {0: 'text', 1: 'ner'}\n",
    "\n",
    "## folder where training and test data are\n",
    "data_folder = '/content/gdrive/My Drive/SAKI/flair'\n",
    "\n",
    "\n",
    "#train_file = 'train_res_bilou_nd.txt'\n",
    "#test_file = 'test_res_bilou_nd.txt'\n",
    "#dev_file = 'valid_res_bilou_nd.txt'\n",
    "train_file = 'train_res_bilou_f.txt'\n",
    "test_file = 'test_res_bilou_f.txt'\n",
    "dev_file = 'valid_res_bilou_f.txt'\n",
    "\n",
    "\n",
    "## init a corpus using column format, data folder and the names of the train, dev and test files\n",
    "corpus: Corpus = ColumnCorpus(data_folder, columns,\n",
    "                              train_file=train_file,\n",
    "                              test_file=test_file,\n",
    "                              dev_file=dev_file)\n",
    "print(corpus)\n",
    "\n",
    "## make the tag dictionary from the corpus\n",
    "tag_dictionary = corpus.make_tag_dictionary(tag_type='ner')\n",
    "print(tag_dictionary.idx2item)\n"
   ]
  },
  {
   "cell_type": "code",
   "execution_count": 0,
   "metadata": {
    "colab": {},
    "colab_type": "code",
    "id": "o6H1IzUbR5iH"
   },
   "outputs": [],
   "source": [
    "## initialize embeddings\n",
    "from flair.embeddings import TokenEmbeddings, WordEmbeddings, StackedEmbeddings,FlairEmbeddings\n",
    "from typing import List\n",
    "\n",
    "embedding_types: List[TokenEmbeddings] = [\n",
    "    WordEmbeddings('glove'),\n",
    "    FlairEmbeddings('news-forward'),\n",
    "    FlairEmbeddings('news-backward'),\n",
    "]\n",
    "\n",
    "embeddings: StackedEmbeddings = StackedEmbeddings(embeddings=embedding_types)\n",
    "\n",
    "## initialize sequence tagger\n",
    "from flair.models import SequenceTagger\n",
    "\n",
    "tagger: SequenceTagger = SequenceTagger(hidden_size=256,\n",
    "                                        embeddings=embeddings,\n",
    "                                        tag_dictionary=tag_dictionary,\n",
    "                                        tag_type='ner',\n",
    "                                        use_crf=True)"
   ]
  },
  {
   "cell_type": "code",
   "execution_count": 0,
   "metadata": {
    "colab": {
     "base_uri": "https://localhost:8080/",
     "height": 71
    },
    "colab_type": "code",
    "executionInfo": {
     "elapsed": 3695,
     "status": "ok",
     "timestamp": 1560806810698,
     "user": {
      "displayName": "Armin Roth",
      "photoUrl": "",
      "userId": "08591799635376506733"
     },
     "user_tz": -120
    },
    "id": "c1dq-V_AvA2x",
    "outputId": "7c907965-4087-403c-9e93-8af3562719eb"
   },
   "outputs": [
    {
     "name": "stderr",
     "output_type": "stream",
     "text": [
      "/usr/local/lib/python3.6/dist-packages/smart_open/smart_open_lib.py:398: UserWarning: This function is deprecated, use smart_open.open instead. See the migration notes for details: https://github.com/RaRe-Technologies/smart_open/blob/master/README.rst#migrating-to-the-new-open-function\n",
      "  'See the migration notes for details: %s' % _MIGRATION_NOTES_URL\n"
     ]
    }
   ],
   "source": [
    "## prepare hyperparameter optimization\n",
    "\n",
    "from hyperopt import hp\n",
    "from flair.hyperparameter.param_selection import SearchSpace, Parameter\n",
    "\n",
    "search_space = SearchSpace()\n",
    "search_space.add(\n",
    "        Parameter.EMBEDDINGS,\n",
    "        hp.choice,\n",
    "        options=[\n",
    "            StackedEmbeddings([WordEmbeddings(\"glove\")]),\n",
    "            StackedEmbeddings(\n",
    "                [\n",
    "                    WordEmbeddings(\"glove\"),\n",
    "                    FlairEmbeddings(\"news-forward\"),\n",
    "                    FlairEmbeddings(\"news-backward\"),\n",
    "                ]\n",
    "            ),\n",
    "        ],\n",
    "    )\n",
    "search_space.add(Parameter.HIDDEN_SIZE, hp.choice, options=[32, 64, 128])\n",
    "search_space.add(Parameter.RNN_LAYERS, hp.choice, options=[1, 2])\n",
    "search_space.add(Parameter.DROPOUT, hp.uniform, low=0.0, high=0.5)\n",
    "search_space.add(Parameter.LEARNING_RATE, hp.choice, options=[0.05, 0.1, 0.15, 0.2])\n",
    "search_space.add(Parameter.MINI_BATCH_SIZE, hp.choice, options=[8, 16, 32])"
   ]
  },
  {
   "cell_type": "code",
   "execution_count": null,
   "metadata": {
    "colab": {
     "base_uri": "https://localhost:8080/",
     "height": 1666
    },
    "colab_type": "code",
    "executionInfo": {
     "elapsed": 752949,
     "status": "error",
     "timestamp": 1560807594696,
     "user": {
      "displayName": "Armin Roth",
      "photoUrl": "",
      "userId": "08591799635376506733"
     },
     "user_tz": -120
    },
    "id": "8irj5_nSQl9c",
    "outputId": "8475c004-3ed0-4c69-ae21-74690755941b"
   },
   "outputs": [],
   "source": [
    "## optimize hyperparameters\n",
    "\n",
    "from flair.hyperparameter.param_selection import SequenceTaggerParamSelector , OptimizationValue\n",
    "\n",
    "## create the parameter selector\n",
    "optimizer = SequenceTaggerParamSelector(\n",
    "        corpus, 'ner', 'resources/results', max_epochs=3\n",
    "    )\n",
    "\n",
    "## start the optimization\n",
    "optimizer.optimize(search_space, max_evals=100)"
   ]
  },
  {
   "cell_type": "code",
   "execution_count": null,
   "metadata": {
    "colab": {
     "base_uri": "https://localhost:8080/",
     "height": 14739
    },
    "colab_type": "code",
    "executionInfo": {
     "elapsed": 435394,
     "status": "ok",
     "timestamp": 1560773438712,
     "user": {
      "displayName": "Armin Roth",
      "photoUrl": "",
      "userId": "08591799635376506733"
     },
     "user_tz": -120
    },
    "id": "xFMA2qsyTvHq",
    "outputId": "b0f19988-fb5c-41aa-ab41-52edad082576"
   },
   "outputs": [],
   "source": [
    "## initialize trainer\n",
    "from flair.trainers import ModelTrainer\n",
    "\n",
    "trainer: ModelTrainer = ModelTrainer(tagger, corpus)\n",
    "\n",
    "model_name = 'resources/taggers/resume-ner-1-nd'\n",
    "\n",
    "## start training\n",
    "trainer.train(model_name,\n",
    "              learning_rate=0.1,\n",
    "              mini_batch_size=32,\n",
    "              #anneal_with_restarts=True,\n",
    "              max_epochs=75\n",
    "             ,checkpoint=True)\n",
    "\n",
    "\n"
   ]
  },
  {
   "cell_type": "code",
   "execution_count": null,
   "metadata": {
    "colab": {
     "base_uri": "https://localhost:8080/",
     "height": 6052
    },
    "colab_type": "code",
    "executionInfo": {
     "elapsed": 12719350,
     "status": "ok",
     "timestamp": 1560891905060,
     "user": {
      "displayName": "Armin Roth",
      "photoUrl": "",
      "userId": "08591799635376506733"
     },
     "user_tz": -120
    },
    "id": "nXgZusGjVquz",
    "outputId": "a1175f8e-aa63-45e6-9695-cbef01b26eb9"
   },
   "outputs": [],
   "source": [
    "from pathlib import Path\n",
    "from flair.trainers import ModelTrainer\n",
    "from flair.training_utils import EvaluationMetric\n",
    "\n",
    "## continue trainng if aborted\n",
    "checkpoint = tagger.load_checkpoint(Path('resources/taggers/resume-ner-1-nd/checkpoint.pt'))\n",
    "trainer = ModelTrainer.load_from_checkpoint(checkpoint, corpus)\n",
    "trainer.train('resources/taggers/resume-ner-1-nd',\n",
    "              EvaluationMetric.MICRO_F1_SCORE,\n",
    "              learning_rate=0.1,\n",
    "              mini_batch_size=32,\n",
    "              max_epochs=150,\n",
    "              checkpoint=True)"
   ]
  },
  {
   "cell_type": "code",
   "execution_count": 0,
   "metadata": {
    "colab": {},
    "colab_type": "code",
    "id": "JQZlLP3HJOen"
   },
   "outputs": [],
   "source": [
    "from flair.visual.training_curves import Plotter\n",
    "\n",
    "## plot training curves and weights\n",
    "plotter = Plotter()\n",
    "plotter.plot_training_curves('./resources/taggers/resume-ner-1/loss.tsv')\n",
    "plotter.plot_weights('./resources/taggers/resume-ner-1/weights.txt')"
   ]
  },
  {
   "cell_type": "code",
   "execution_count": 38,
   "metadata": {
    "colab": {
     "base_uri": "https://localhost:8080/",
     "height": 248
    },
    "colab_type": "code",
    "executionInfo": {
     "elapsed": 47036,
     "status": "ok",
     "timestamp": 1560925439986,
     "user": {
      "displayName": "Armin Roth",
      "photoUrl": "",
      "userId": "08591799635376506733"
     },
     "user_tz": -120
    },
    "id": "J6aV_qJbRUns",
    "outputId": "d0da5ec8-3703-4adc-f472-7f4e746a2ca1"
   },
   "outputs": [
    {
     "name": "stdout",
     "output_type": "stream",
     "text": [
      "For label 'Degree' tp: 201 fp: 88 fn: 133\n",
      "For label 'Companies' tp: 874 fp: 333 fn: 363\n",
      "For label 'Designation' tp: 665 fp: 258 fn: 353\n",
      "Entity-Level evaluation:\n"
     ]
    },
    {
     "data": {
      "text/html": [
       "<div>\n",
       "<style scoped>\n",
       "    .dataframe tbody tr th:only-of-type {\n",
       "        vertical-align: middle;\n",
       "    }\n",
       "\n",
       "    .dataframe tbody tr th {\n",
       "        vertical-align: top;\n",
       "    }\n",
       "\n",
       "    .dataframe thead th {\n",
       "        text-align: right;\n",
       "    }\n",
       "</style>\n",
       "<table border=\"1\" class=\"dataframe\">\n",
       "  <thead>\n",
       "    <tr style=\"text-align: right;\">\n",
       "      <th></th>\n",
       "      <th>precision</th>\n",
       "      <th>recall</th>\n",
       "      <th>f1</th>\n",
       "    </tr>\n",
       "  </thead>\n",
       "  <tbody>\n",
       "    <tr>\n",
       "      <th>Degree</th>\n",
       "      <td>0.695502</td>\n",
       "      <td>0.601796</td>\n",
       "      <td>0.645265</td>\n",
       "    </tr>\n",
       "    <tr>\n",
       "      <th>Companies worked at</th>\n",
       "      <td>0.724109</td>\n",
       "      <td>0.706548</td>\n",
       "      <td>0.715221</td>\n",
       "    </tr>\n",
       "    <tr>\n",
       "      <th>Designation</th>\n",
       "      <td>0.720477</td>\n",
       "      <td>0.653242</td>\n",
       "      <td>0.685214</td>\n",
       "    </tr>\n",
       "    <tr>\n",
       "      <th>avg</th>\n",
       "      <td>0.713363</td>\n",
       "      <td>0.653862</td>\n",
       "      <td>0.681900</td>\n",
       "    </tr>\n",
       "  </tbody>\n",
       "</table>\n",
       "</div>"
      ],
      "text/plain": [
       "                     precision    recall        f1\n",
       "Degree                0.695502  0.601796  0.645265\n",
       "Companies worked at   0.724109  0.706548  0.715221\n",
       "Designation           0.720477  0.653242  0.685214\n",
       "avg                   0.713363  0.653862  0.681900"
      ]
     },
     "metadata": {
      "tags": []
     },
     "output_type": "display_data"
    }
   ],
   "source": [
    "import os\n",
    "import pandas as pd \n",
    "\n",
    "\n",
    "## clculate entity-level evaluation metrics \n",
    "\n",
    "search_string = ['Degree', 'Companies', 'Designation'] \n",
    "test = pd.read_csv('./resources/taggers/resume-ner-1-nd/test.tsv', delim_whitespace=True, engine=\"python\",names=['Text','Predicted','True','val'])\n",
    "\n",
    "data = []\n",
    "for label in search_string:\n",
    "    # variables to store results for all resumes for one entity type\n",
    "    true_positives = 0\n",
    "    false_positives = 0\n",
    "    false_negatives = 0\n",
    "    for _,tres_df in test.iterrows():\n",
    "        # calculate true false positives and false negatives for each resume\n",
    "        if (tres_df[\"Predicted\"] == tres_df[\"True\"]) & (label in tres_df[\"Predicted\"]): \n",
    "          true_positives += 1\n",
    "        if (tres_df[\"Predicted\"] != tres_df[\"True\"]) & (label in tres_df[\"Predicted\"]):\n",
    "          false_positives += 1\n",
    "        if (tres_df[\"Predicted\"] != tres_df[\"True\"]) & (label in tres_df[\"True\"]):\n",
    "          false_negatives += 1\n",
    "        \n",
    "    \n",
    "    print(\"For label '{}' tp: {} fp: {} fn: {}\".format(label,true_positives,false_positives,false_negatives))\n",
    "\n",
    "    precision = 0.0 if true_positives == 0 else float(true_positives) / (true_positives + false_positives)\n",
    "    recall =  0.0 if true_positives == 0 else float(true_positives) / (true_positives + false_negatives)\n",
    "    f1 =  0.0 if true_positives == 0 else 2 * ((precision * recall)/(precision + recall))\n",
    "    row = [precision,recall,f1]\n",
    "    data.append(row)\n",
    "    \n",
    "\n",
    "metric_df = pd.DataFrame(data, columns = ['precision', 'recall', 'f1'], index = ['Degree', 'Companies worked at', 'Designation']) \n",
    "metric_df.loc['avg'] = metric_df.mean()\n",
    "\n",
    "print(\"Entity-Level evaluation:\")\n",
    "\n",
    "display(metric_df)"
   ]
  }
 ],
 "metadata": {
  "accelerator": "GPU",
  "colab": {
   "collapsed_sections": [],
   "name": "flair_nlp_colab.ipynb",
   "provenance": [],
   "version": "0.3.2"
  },
  "kernelspec": {
   "display_name": "Python 3",
   "language": "python",
   "name": "python3"
  },
  "language_info": {
   "codemirror_mode": {
    "name": "ipython",
    "version": 3
   },
   "file_extension": ".py",
   "mimetype": "text/x-python",
   "name": "python",
   "nbconvert_exporter": "python",
   "pygments_lexer": "ipython3",
   "version": "3.7.3"
  }
 },
 "nbformat": 4,
 "nbformat_minor": 1
}
