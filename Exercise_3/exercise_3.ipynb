{
 "cells": [
  {
   "cell_type": "markdown",
   "metadata": {
    "colab_type": "text",
    "id": "_39DSB_KcCZO"
   },
   "source": [
    "# SAKI Homework 3 - warehouse MDP"
   ]
  },
  {
   "cell_type": "code",
   "execution_count": 1,
   "metadata": {
    "colab": {},
    "colab_type": "code",
    "id": "r6Wy6IJu93QU"
   },
   "outputs": [],
   "source": [
    "import mdptoolbox\n",
    "import pandas as pd\n",
    "import itertools as it\n",
    "import numpy as np\n",
    "import pickle\n",
    "import time\n",
    "from scipy import sparse"
   ]
  },
  {
   "cell_type": "markdown",
   "metadata": {
    "colab_type": "text",
    "id": "s-6yXaDWcCZc"
   },
   "source": [
    "## Prepare MDP"
   ]
  },
  {
   "cell_type": "markdown",
   "metadata": {
    "colab_type": "text",
    "id": "VAUG78dDcCZf"
   },
   "source": [
    "### Import data"
   ]
  },
  {
   "cell_type": "code",
   "execution_count": 2,
   "metadata": {
    "colab": {},
    "colab_type": "code",
    "id": "RsnGzlch3c1Y"
   },
   "outputs": [],
   "source": [
    "#import training set (2x3)\n",
    "training_data = pd.read_csv('./data/Exercise 3 - Reinforcement Learning - warehousetraining.txt', header=None)\n",
    "training_data.columns = [\"training\"]\n",
    "#import test set (2x3)\n",
    "test_data = pd.read_csv('./data/Exercise 3 - Reinforcement Learning - warehouseorder.txt', sep='\\t', header=None)\n",
    "test_data.columns = [\"action\", \"color\"]"
   ]
  },
  {
   "cell_type": "markdown",
   "metadata": {
    "colab_type": "text",
    "id": "Utu5sfM1fAPt"
   },
   "source": [
    "### Probability from training set"
   ]
  },
  {
   "cell_type": "code",
   "execution_count": 3,
   "metadata": {
    "colab": {
     "base_uri": "https://localhost:8080/",
     "height": 201
    },
    "colab_type": "code",
    "executionInfo": {
     "elapsed": 540,
     "status": "ok",
     "timestamp": 1562740300862,
     "user": {
      "displayName": "Armin Roth",
      "photoUrl": "",
      "userId": "08591799635376506733"
     },
     "user_tz": -120
    },
    "id": "qPh_m4XY3ood",
    "outputId": "0debd4a1-a49c-4c09-9447-666aee4e0568"
   },
   "outputs": [
    {
     "name": "stdout",
     "output_type": "stream",
     "text": [
      "successfull\n",
      "1.0\n",
      "\n",
      "restore\\tred      0.247\n",
      "store\\tred        0.247\n",
      "store\\twhite      0.128\n",
      "restore\\twhite    0.128\n",
      "restore\\tblue     0.125\n",
      "store\\tblue       0.125\n",
      "Name: training, dtype: float64\n"
     ]
    }
   ],
   "source": [
    "#calculate probability from training set\n",
    "move_probs = (training_data.training.value_counts() / training_data.shape[0])\n",
    "move_probs = move_probs.round(3)\n",
    "if (sum(move_probs) == 1.):\n",
    "    print(\"successfull\")\n",
    "else:\n",
    "    print(\"Error: sum not one\")\n",
    "print(move_probs.sum())\n",
    "print(\"\")\n",
    "print(move_probs)"
   ]
  },
  {
   "cell_type": "markdown",
   "metadata": {
    "colab_type": "text",
    "id": "9cLNxqQscCZ1"
   },
   "source": [
    "### MDP Settings"
   ]
  },
  {
   "cell_type": "code",
   "execution_count": 4,
   "metadata": {
    "colab": {},
    "colab_type": "code",
    "id": "uawpnmRFHwLz"
   },
   "outputs": [],
   "source": [
    "############################################\n",
    "num_fields = 6 # Warehouse places 2x2 = 4 ..\n",
    "############################################\n",
    "\n",
    "num_color = 4 # empty, red, white, blue\n",
    "num_moves = 6 # store red, store white, store blue, restore red, ...\n",
    "num_actions = num_fields\n",
    "block_size = num_color ** num_fields\n",
    "\n",
    "num_state = num_color ** num_fields * num_moves\n",
    "warehouse_description=[0,1,2,3] #possible colors"
   ]
  },
  {
   "cell_type": "markdown",
   "metadata": {
    "colab_type": "text",
    "id": "WAeO3iY5e8vR"
   },
   "source": [
    "### Transition Probability Matrix"
   ]
  },
  {
   "cell_type": "code",
   "execution_count": 0,
   "metadata": {
    "colab": {
     "base_uri": "https://localhost:8080/",
     "height": 164
    },
    "colab_type": "code",
    "executionInfo": {
     "elapsed": 873178,
     "status": "ok",
     "timestamp": 1562329645772,
     "user": {
      "displayName": "Armin Roth",
      "photoUrl": "",
      "userId": "08591799635376506733"
     },
     "user_tz": -120
    },
    "id": "CthEIY0tqjES",
    "outputId": "e1622573-74dc-4660-ca42-751d2faf889d"
   },
   "outputs": [
    {
     "name": "stdout",
     "output_type": "stream",
     "text": [
      "finished P0\n",
      "finished P1\n",
      "finished P2\n",
      "finished P3\n",
      "finished P4\n",
      "finished P5\n",
      "---\n",
      "successfull\n"
     ]
    }
   ],
   "source": [
    "#Init TPM\n",
    "P = []\n",
    "\n",
    "for action in range(num_actions):\n",
    "    current_index = 0\n",
    "    P.append(np.zeros((num_state, num_state),dtype=np.float16))\n",
    "    \n",
    "    for instr in range(num_moves):\n",
    "        for w_state in it.product(warehouse_description, repeat=num_fields):\n",
    "            #Iter through all 6 column blocks (=possible instructions) (store red, store blue, ...., restore red, ...)\n",
    "            for move in range(num_moves):\n",
    "\n",
    "                ##For field one (Action)\n",
    "                #FOR STORE\n",
    "                if(instr in range(3)):\n",
    "\n",
    "                    #1. Empty? if (field1 == 0)\n",
    "                    if(w_state[action] != 0):\n",
    "                        P[action][current_index][(current_index % block_size) + (block_size * move)] = move_probs[move]\n",
    "                    else:\n",
    "                        #FOR STORE\n",
    "                        #if(red) index+64 (i**numFields)\n",
    "                        # else if(white) index+128\n",
    "                        # else if(blue) index+192\n",
    "\n",
    "                        #red = 0\n",
    "                        if(instr == 0):\n",
    "                            P[action][current_index][((current_index % block_size) + (num_color**(num_actions - action - 1) * 1)) + (block_size * move)] = move_probs[move]\n",
    "                        #white = 1\n",
    "                        elif(instr == 1):\n",
    "                            P[action][current_index][((current_index % block_size) + (num_color**(num_actions - action - 1) * 2)) + (block_size * move)] = move_probs[move]\n",
    "                        #blue = 2\n",
    "                        elif(instr == 2):\n",
    "                            P[action][current_index][((current_index % block_size) + (num_color**(num_actions - action - 1) * 3)) + (block_size * move)] = move_probs[move]\n",
    "\n",
    "\n",
    "                #FOR RESTORE\n",
    "                else:\n",
    "                    #possible? if (field 1 != 0)\n",
    "                    if(w_state[action] == 0):\n",
    "                        P[action][current_index][(current_index % block_size) + (block_size * move)] = move_probs[move]\n",
    "                    else:\n",
    "                        #FOR STORE\n",
    "                        #if(red) index-64 (i**numFields)\n",
    "                        # else if(white) index-128\n",
    "                        # else if(blue) index-192\n",
    "\n",
    "                        #red = 3\n",
    "                        if(instr == 3):\n",
    "                            P[action][current_index][((current_index % block_size) - (num_color**(num_actions - action - 1) * 1)) + (block_size * move)] = move_probs[move]\n",
    "                        #white = 4\n",
    "                        elif(instr == 4):\n",
    "                            P[action][current_index][((current_index % block_size) - (num_color**(num_actions - action - 1) * 2)) + (block_size * move)] = move_probs[move]\n",
    "                        #blue = 5\n",
    "                        elif(instr == 5):\n",
    "                            P[action][current_index][((current_index % block_size) - (num_color**(num_actions - action - 1) * 3)) + (block_size * move)] = move_probs[move]                          \n",
    "            \n",
    "            #START DEBUGGING\n",
    "            if(sum(P[action][current_index]) != 1.0):\n",
    "                print(current_index,sum(P[action][current_index]))\n",
    "            #END DEBUGGING\n",
    "            current_index += 1\n",
    "            \n",
    "    P[action] = sparse.csr_matrix(P[action])\n",
    "    print(\"finished P\"+str(action))   \n",
    "    \n",
    "print(\"---\")\n",
    "print(\"successfull\")\n",
    "\n",
    "# Save the matrices into a pickle file.\n",
    "pickle.dump( P, open( \"./obj_data/P.pickle\", \"wb\" ) )"
   ]
  },
  {
   "cell_type": "code",
   "execution_count": 0,
   "metadata": {
    "colab": {},
    "colab_type": "code",
    "id": "zi1oFWWrDs-M"
   },
   "outputs": [],
   "source": [
    "#Load the matrices from pickle file.\n",
    "P = pickle.load( open( \"./obj_data/P.pickle\", \"rb\" ))"
   ]
  },
  {
   "cell_type": "markdown",
   "metadata": {
    "colab_type": "text",
    "id": "WaVtq7uIKuzm"
   },
   "source": [
    "### Create Warehouse states"
   ]
  },
  {
   "cell_type": "code",
   "execution_count": 7,
   "metadata": {
    "colab": {
     "base_uri": "https://localhost:8080/",
     "height": 127
    },
    "colab_type": "code",
    "executionInfo": {
     "elapsed": 598,
     "status": "ok",
     "timestamp": 1562740307136,
     "user": {
      "displayName": "Armin Roth",
      "photoUrl": "",
      "userId": "08591799635376506733"
     },
     "user_tz": -120
    },
    "id": "pr8ijslGKqHz",
    "outputId": "f815495e-48bc-4e4c-e57a-9a6c212d59a7"
   },
   "outputs": [
    {
     "name": "stdout",
     "output_type": "stream",
     "text": [
      "   state0  state1  state2  state3  state4  state5  NextMove\n",
      "0       0       0       0       0       0       0         0\n",
      "1       0       0       0       0       0       1         0\n",
      "2       0       0       0       0       0       2         0\n",
      "3       0       0       0       0       0       3         0\n",
      "4       0       0       0       0       1       0         0\n"
     ]
    }
   ],
   "source": [
    "warehouse = []\n",
    "for instr in range(num_moves):\n",
    "    for w_state in it.product(warehouse_description, repeat=num_fields):\n",
    "        tmp = []\n",
    "        tmp_str = []\n",
    "        for i in range(num_fields):\n",
    "            tmp.append(w_state[i])\n",
    "            tmp_str.append('state'+str(i))\n",
    "        tmp.append(instr)\n",
    "        tmp_str.append('NextMove')\n",
    "        warehouse.append(tmp)\n",
    "    \n",
    "warehouse = pd.DataFrame(warehouse, columns=tmp_str)\n",
    "print(warehouse.head())"
   ]
  },
  {
   "cell_type": "markdown",
   "metadata": {
    "colab_type": "text",
    "id": "-0js_JbNXzK5"
   },
   "source": [
    "### Reward"
   ]
  },
  {
   "cell_type": "code",
   "execution_count": 0,
   "metadata": {
    "colab": {},
    "colab_type": "code",
    "id": "jFio4QtZyHkn"
   },
   "outputs": [],
   "source": [
    "R = []\n",
    "\n",
    "for action in range(num_actions):\n",
    "    R.append(np.zeros((num_state, )))\n",
    "  \n",
    "    for index, ws in warehouse.iterrows():\n",
    "        try:\n",
    "            #Reward for correct move\n",
    "            if((ws.NextMove in range(3) and ws[action] == 0) or\n",
    "            (ws.NextMove in range(3, 6) and (ws[action] == (ws.NextMove - 2)))):\n",
    "               \n",
    "                if  (action == 0): reward = 80**2  #8**3.5;\n",
    "                elif(action == 1): reward = 60**2  #6**3.5;\n",
    "                elif(action == 2): reward = 60**2  #6**3.5;\n",
    "                elif(action == 3): reward = 40**2  #4**3.5;\n",
    "                elif(action == 4): reward = 40**2  #4**3.5;\n",
    "                elif(action == 5): reward = 40**2  #2**3.5;\n",
    "        \n",
    "                #Extra reward if restore is possible\n",
    "                if ws.NextMove in range(3, 6) and (ws[action] == (ws.NextMove - 2)):\n",
    "                    reward *= 100  #+=100\n",
    "      \n",
    "            #Reward for Failed moves\n",
    "            else:\n",
    "                #store not possible\n",
    "                if ws.NextMove in range(3):\n",
    "                    reward = -20000  #5\n",
    "                #restore not possible\n",
    "                else:\n",
    "                    reward = -1000000  #-10\n",
    "\n",
    "            R[-1][index] = reward\n",
    "      \n",
    "        except:\n",
    "            print(\"An exception occurred\") \n",
    "            print(ws.NextMove)\n",
    "            print(ws[action])\n",
    "\n",
    "R = np.asarray(R)\n",
    "R = R.transpose()\n",
    "\n",
    "# Save the matrices into a pickle file.\n",
    "pickle.dump( R, open( \"./obj_data/R.pickle\", \"wb\" ) )"
   ]
  },
  {
   "cell_type": "code",
   "execution_count": 0,
   "metadata": {
    "colab": {},
    "colab_type": "code",
    "id": "rrGr8cNlcCad"
   },
   "outputs": [],
   "source": [
    "#Load the matrices from pickle file.\n",
    "R = pickle.load( open( \"./obj_data/R.pickle\", \"rb\" ))"
   ]
  },
  {
   "cell_type": "markdown",
   "metadata": {
    "colab_type": "text",
    "id": "Eg8JUXFgpqej"
   },
   "source": [
    "## Run MDP"
   ]
  },
  {
   "cell_type": "code",
   "execution_count": 0,
   "metadata": {
    "colab": {},
    "colab_type": "code",
    "id": "aIzu6dZK7FMS"
   },
   "outputs": [],
   "source": [
    "#print(len(P))\n",
    "#print(P[0].shape)\n",
    "mdptoolbox.util.check(P,R)"
   ]
  },
  {
   "cell_type": "code",
   "execution_count": 0,
   "metadata": {
    "colab": {},
    "colab_type": "code",
    "id": "2HHmLq8mg9vz"
   },
   "outputs": [],
   "source": [
    "start_time = time.time()\n",
    "mdpresultPolicy = mdptoolbox.mdp.PolicyIteration(P, R, 0.9, max_iter=500)\n",
    "mdpresultValue = mdptoolbox.mdp.ValueIteration(P, R, 0.9, max_iter=500)\n",
    "print(\"--- %s seconds ---\" % (time.time() - start_time))\n",
    "pickle.dump( mdpresultValue, open( \"./obj_data/mdpresult_val.pickle\", \"wb\" ) )\n",
    "pickle.dump( mdpresultPolicy, open( \"./obj_data/mdpresult_pol.pickle\", \"wb\" ) )"
   ]
  },
  {
   "cell_type": "code",
   "execution_count": 0,
   "metadata": {
    "colab": {},
    "colab_type": "code",
    "id": "TxoFpnPfEYEt"
   },
   "outputs": [],
   "source": [
    "#load from pickle\n",
    "mdpresultValue = pickle.load( open( \"./obj_data/mdpresult_val.pickle\", \"rb\" ))\n",
    "mdpresultPolicy = pickle.load( open( \"./obj_data/mdpresult_pol.pickle\", \"rb\" ))"
   ]
  },
  {
   "cell_type": "code",
   "execution_count": null,
   "metadata": {
    "colab": {
     "base_uri": "https://localhost:8080/",
     "height": 35
    },
    "colab_type": "code",
    "executionInfo": {
     "elapsed": 3541,
     "status": "ok",
     "timestamp": 1562752080044,
     "user": {
      "displayName": "Armin Roth",
      "photoUrl": "",
      "userId": "08591799635376506733"
     },
     "user_tz": -120
    },
    "id": "PLdPy1S0K320",
    "outputId": "3d0cd9dc-ef42-4885-9484-f02ab62cae5b"
   },
   "outputs": [],
   "source": [
    "start_time = time.time()\n",
    "#mdpresultValue.setVerbose()\n",
    "#mdpresultPolicy.setVerbose()\n",
    "mdpresultValue.run()\n",
    "mdpresultPolicy.run()\n",
    "print(\"--- %s seconds ---\" % (time.time() - start_time))\n",
    "\n",
    "pickle.dump( mdpresultValue, open( \"./obj_data/mdpresult_run_val.pickle\", \"wb\" ) )\n",
    "pickle.dump( mdpresultValue, open( \"./obj_data/mdpresult_run_pol.pickle\", \"wb\" ) )"
   ]
  },
  {
   "cell_type": "code",
   "execution_count": null,
   "metadata": {
    "colab": {
     "base_uri": "https://localhost:8080/",
     "height": 110
    },
    "colab_type": "code",
    "executionInfo": {
     "elapsed": 1509,
     "status": "ok",
     "timestamp": 1562752082866,
     "user": {
      "displayName": "Armin Roth",
      "photoUrl": "",
      "userId": "08591799635376506733"
     },
     "user_tz": -120
    },
    "id": "9lvEshyOggz2",
    "outputId": "71d4a616-68a5-467f-81c6-15991462d542"
   },
   "outputs": [],
   "source": [
    "mdpresultValue = pickle.load( open( \"./obj_data/mdpresult_run_val.pickle\", \"rb\" ))\n",
    "mdpresultPolicy = pickle.load( open( \"./obj_data/mdpresult_run_pol.pickle\", \"rb\" ))\n",
    "print('PolicyIteration:')\n",
    "print(mdpresultPolicy.policy)\n",
    "print(mdpresultPolicy.V)\n",
    "print(mdpresultPolicy.iter)\n",
    "print()\n",
    "print('ValueIteration:')\n",
    "print(mdpresultValue.policy)\n",
    "print(mdpresultValue.V)\n",
    "print(mdpresultValue.iter)"
   ]
  },
  {
   "cell_type": "markdown",
   "metadata": {
    "colab_type": "text",
    "id": "9T0WnrpGcCa_"
   },
   "source": [
    "## Evaluate MDP"
   ]
  },
  {
   "cell_type": "markdown",
   "metadata": {
    "colab_type": "text",
    "id": "wwMIvue1ebUT"
   },
   "source": [
    "### Helper functions"
   ]
  },
  {
   "cell_type": "code",
   "execution_count": 0,
   "metadata": {
    "colab": {},
    "colab_type": "code",
    "id": "PY4KRgUzq4P3"
   },
   "outputs": [],
   "source": [
    "def getInstrNr(instrString):\n",
    "    if(instrString == 'store red'):\n",
    "        ret = 0\n",
    "    elif(instrString == 'store white'):\n",
    "        ret = 1\n",
    "    elif(instrString == 'store blue'):\n",
    "        ret = 2\n",
    "    elif(instrString == 'restore red'):\n",
    "        ret = 3\n",
    "    elif(instrString == 'restore white'):\n",
    "        ret = 4\n",
    "    elif(instrString == 'restore blue'):\n",
    "        ret = 5  \n",
    "    return ret\n",
    "\n",
    "\n",
    "def get_distance(i):\n",
    "    if(i == 0):\n",
    "        dist = 2\n",
    "    elif(i == 1):\n",
    "        dist = 4\n",
    "    elif(i == 2):\n",
    "        dist = 4\n",
    "    elif(i == 3):\n",
    "        dist = 6\n",
    "    elif(i == 4):\n",
    "        dist = 6\n",
    "    elif(i == 5):\n",
    "        dist = 8\n",
    "    return dist\n",
    "\n",
    "import enum \n",
    "class Color(enum.Enum): \n",
    "    red   = 1\n",
    "    white = 2\n",
    "    blue  = 3\n",
    "\n",
    "def getIndexOfWarehouse(playground, instr, warehouse):\n",
    "    index = warehouse[(warehouse['state0'] == playground[0]) &\n",
    "                      (warehouse['state1'] == playground[1]) &\n",
    "                      (warehouse['state2'] == playground[2]) &\n",
    "                      (warehouse['state3'] == playground[3]) &\n",
    "                      (warehouse['state4'] == playground[4]) &\n",
    "                      (warehouse['state5'] == playground[5]) &\n",
    "                      (warehouse['NextMove'] == getInstrNr(instr))].index[0]\n",
    "    return index\n",
    "\n",
    "  "
   ]
  },
  {
   "cell_type": "markdown",
   "metadata": {
    "colab_type": "text",
    "id": "ReIzyT2orjov"
   },
   "source": [
    "### Use Greedy Algorithm and Policies on Testdata"
   ]
  },
  {
   "cell_type": "code",
   "execution_count": 39,
   "metadata": {
    "colab": {
     "base_uri": "https://localhost:8080/",
     "height": 201
    },
    "colab_type": "code",
    "executionInfo": {
     "elapsed": 812,
     "status": "ok",
     "timestamp": 1562745702670,
     "user": {
      "displayName": "Armin Roth",
      "photoUrl": "",
      "userId": "08591799635376506733"
     },
     "user_tz": -120
    },
    "id": "2HT4GPMcgKE0",
    "outputId": "7e15d392-1e01-4597-897a-bfc35d6b8536"
   },
   "outputs": [
    {
     "name": "stdout",
     "output_type": "stream",
     "text": [
      "iteration 14 did not restore\n",
      "iteration 21 did not store\n",
      "iteration 22 did not restore\n",
      "iteration 25 did not restore\n",
      "iteration 34 did not store\n",
      "iteration 35 did not store\n",
      "iteration 53 did not restore\n",
      "Greedy:248\n",
      "MDP value iter:206\n",
      "MDP policy iter:0\n"
     ]
    }
   ],
   "source": [
    "outputeval = open('./eval_result/eval.txt', 'w') \n",
    "\n",
    "def store_restore_greedy(local_warehouse, data):\n",
    "    print(str(counter) + \" GREEDY: \\t\" + str(warehouse_greedy) + str(data.action) + \" \" + str(data.color), file = outputeval)\n",
    "    \n",
    "    for i in range(len(local_warehouse)):\n",
    "        #Check if position is free\n",
    "        if(data.action == 'store'):\n",
    "            if(local_warehouse[i] == 0):\n",
    "                local_warehouse[i] = Color[data.color].value\n",
    "                break\n",
    "        #Check if the desired color is stored\n",
    "        elif(data.action == 'restore'):\n",
    "            if(local_warehouse[i] == Color[data.color].value):\n",
    "                local_warehouse[i] = 0\n",
    "                break\n",
    "        #move is not possible\n",
    "        else:\n",
    "            print(\"iteration\", counter ,\"move not possible\")\n",
    "            return 0\n",
    "    return get_distance(i)\n",
    "                \n",
    "\n",
    "def store_restore(policy, local_warehouse, data):\n",
    "    \n",
    "    index = getIndexOfWarehouse(local_warehouse, (data.action + ' ' + data.color), warehouse)\n",
    "    print(str(counter) + \" VAL ITER: \\t\" + str(warehouse_valueiter) + (data.action + ' ' + data.color), file = outputeval)\n",
    "    if(data.action == 'store'):\n",
    "        if(local_warehouse[policy.policy[index]]!=0):\n",
    "            print(\"iteration\",counter,\"did not store\")\n",
    "            return 0;\n",
    "        local_warehouse[policy.policy[index]] = Color[data.color].value\n",
    "    elif(data.action == 'restore'):\n",
    "        if(local_warehouse[policy.policy[index]]!=Color[data.color].value):\n",
    "            print(\"iteration\",counter,\"did not restore\")\n",
    "            return 0;\n",
    "        local_warehouse[policy.policy[index]] = 0\n",
    "        \n",
    "    return get_distance(policy.policy[index])\n",
    "\n",
    "warehouse_greedy = np.zeros(num_fields)\n",
    "warehouse_policyiter = np.zeros(num_fields)\n",
    "warehouse_valueiter = np.zeros(num_fields)\n",
    "\n",
    "distance_greedy = 0\n",
    "distance_mdp_value = 0\n",
    "distance_mdp_policy = 0\n",
    "\n",
    "counter = 0\n",
    "for data in test_data.itertuples():\n",
    "    distance_greedy += store_restore_greedy(warehouse_greedy, data)\n",
    "    distance_mdp_value += store_restore(mdpresultValue, warehouse_valueiter, data)\n",
    "    distance_mdp_policy += store_restore(mdpresultPolicy, warehouse_policyiter, data)\n",
    "    print('', file = outputeval)\n",
    "    counter += 1\n",
    "    \n",
    "\n",
    "print(\"Greedy:\" + str(distance_greedy))\n",
    "print(\"MDP value iter:\" + str(distance_mdp_value))\n",
    "print(\"MDP policy iter:\" + str(distance_mdp_policy))\n",
    "outputeval.close()\n",
    "\n"
   ]
  }
 ],
 "metadata": {
  "accelerator": "TPU",
  "colab": {
   "collapsed_sections": [],
   "name": "ex3_new.ipynb",
   "provenance": [],
   "version": "0.3.2"
  },
  "kernelspec": {
   "display_name": "Python 3",
   "language": "python",
   "name": "python3"
  },
  "language_info": {
   "codemirror_mode": {
    "name": "ipython",
    "version": 3
   },
   "file_extension": ".py",
   "mimetype": "text/x-python",
   "name": "python",
   "nbconvert_exporter": "python",
   "pygments_lexer": "ipython3",
   "version": "3.7.3"
  }
 },
 "nbformat": 4,
 "nbformat_minor": 1
}
